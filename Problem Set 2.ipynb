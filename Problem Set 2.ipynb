{
 "cells": [
  {
   "cell_type": "markdown",
   "id": "ffd4e17c-7fca-4f67-8c57-28c44905b67d",
   "metadata": {},
   "source": [
    "# BDAT 1004 Fall 2024 Section 2\n",
    "# Problem Set 2\n",
    "# Abdul Hussain Hujjati"
   ]
  },
  {
   "cell_type": "markdown",
   "id": "fa741042-a828-44bc-9740-b4aeb660eff4",
   "metadata": {},
   "source": [
    "# Question 1\n",
    "Consider the following Python module:\n",
    "a = 0\n",
    "\n",
    "def b():\n",
    "\n",
    "global a\n",
    "a = c(a)\n",
    "def c(a):\n",
    "\n",
    "return a + 2\n",
    "After importing the module into the interpreter, you execute:\n",
    "\n",
    ">>> b()\n",
    "\n",
    ">>> b()\n",
    ">>> b()\n",
    ">>> a\n",
    "?\n",
    "What value is displayed when the last expression (a) is evaluated? Explain your answer by indicating what happens in every executed statement."
   ]
  },
  {
   "cell_type": "markdown",
   "id": "6fa31903-ac03-46fb-ab69-cf9eba91570d",
   "metadata": {},
   "source": [
    "# Answer 1:"
   ]
  },
  {
   "cell_type": "code",
   "execution_count": 91,
   "id": "a625382e-bc98-4ced-bfce-607d890cb4c8",
   "metadata": {},
   "outputs": [
    {
     "name": "stdout",
     "output_type": "stream",
     "text": [
      "6\n"
     ]
    }
   ],
   "source": [
    "a = 0 #creates variable and assigns value\n",
    "def b():    #creates function b that doesn't take arg\n",
    "    global a    #accesses global variable created earlier\n",
    "    a = c(a)    #calls function c with value of a\n",
    "\n",
    "def c(a):    #creates function a that takes an arg\n",
    "    return a + 2     #adds 2 to the arg and returns\n",
    "\n",
    "# Test\n",
    "b()   #function b calls function a which adds two to variable a, making it 2\n",
    "b()   #function b calls function a which adds two to variable a, making it 4\n",
    "b()   #function b calls function a which adds two to variable a, making it 6\n",
    "print(a)"
   ]
  },
  {
   "cell_type": "markdown",
   "id": "2605e364-a296-43f8-b9a5-2453070dad01",
   "metadata": {},
   "source": [
    "# Question 2:\n",
    "\n",
    "Function fileLength(), given to you, takes the name of a file as input and returns the length of the file:\n",
    ">>> fileLength('midterm.py')\n",
    "\n",
    "284\n",
    ">>> fileLength('idterm.py')\n",
    "Traceback (most recent call last):\n",
    "File \"pyshell#34>\", line 1, in module>\n",
    "fileLength('idterm.py')\n",
    "File \"/Users/me/midterm.py\", line 3, in fileLength infile = open(filename)\n",
    "FileNotFoundError: [Errno 2] No such file or directory: 'idterm.py'\n",
    "As shown above, if the file cannot be found by the interpreter or if it cannot be read as a text file, an exception will be raised. Modify function fileLength() so that a friendly message is printed instead:\n",
    "\n",
    ">>> fileLength('midterm.py')\n",
    "\n",
    "358\n",
    ">>> fileLength('idterm.py')\n",
    "File idterm.py not found."
   ]
  },
  {
   "cell_type": "markdown",
   "id": "4c0ebae2-a4b0-4f41-a686-9ae6bca0f50c",
   "metadata": {},
   "source": [
    "# Answer 2:"
   ]
  },
  {
   "cell_type": "code",
   "execution_count": 3,
   "id": "5edf0583-be31-47a8-a232-88a673573dd3",
   "metadata": {},
   "outputs": [
    {
     "data": {
      "text/plain": [
       "123"
      ]
     },
     "execution_count": 3,
     "metadata": {},
     "output_type": "execute_result"
    }
   ],
   "source": [
    "def fileLength(filename):\n",
    "    \"\"\"function shows file length and handles exception\"\"\"\n",
    "    try:\n",
    "        with open(filename, \"r\") as file:\n",
    "            contents = file.read()\n",
    "            fileLength = len(contents)\n",
    "        return fileLength\n",
    "    except:\n",
    "        print(f'File {filename} not found.')\n",
    "\n",
    "# Test\n",
    "fileLength('Filelength.txt')"
   ]
  },
  {
   "cell_type": "markdown",
   "id": "a4870503-404a-46e8-8112-8b3df3359460",
   "metadata": {},
   "source": [
    "# Question 3\n",
    "Write a class named Marsupial that can be used as shown below:\n",
    ">>> m = Marsupial())\n",
    "\n",
    ">>> m.put_in_pouch('doll')\n",
    ">>> m.put_in_pouch('firetruck')\n",
    ">>> m.put_in_pouch('kitten')\n",
    ">>> m.pouch_contents()\n",
    "['doll', 'firetruck', 'kitten']\n",
    "Now write a class named Kangaroo as a subclass of Marsupial that inherits all the attributes of Marsupial and also:\n",
    "\n",
    "a. extends the Marsupial __init__ constructor to take, as input, the coordinates x and y of the Kangaroo object,\n",
    "b. supports method jump that takes number values dx and dy as input and moves the kangaroo by dx units along the x-axis and by dy units along the y-axis, and\n",
    "c. overloads the __str__ operator so it behaves as shown below.\n",
    ">>> k = Kangaroo(0,0)\n",
    "\n",
    ">>> print(k)\n",
    "I am a Kangaroo located at coordinates (0,0)\n",
    ">>> k.put_in_pouch('doll')\n",
    ">>> k.put_in_pouch('firetruck')\n",
    ">>> k.put_in_pouch('kitten')\n",
    ">>> k.pouch_contents()\n",
    "['doll', 'firetruck', 'kitten']\n",
    ">>> k.jump(1,0)\n",
    ">>> k.jump(1,0)\n",
    ">>> k.jump(1,0)\n",
    ">>> print(k)\n",
    "I am a Kangaroo located at coordinates (3,0)\n"
   ]
  },
  {
   "cell_type": "markdown",
   "id": "b75748ef-a505-403e-ac89-0db8a7305e12",
   "metadata": {},
   "source": [
    "# Answer 3"
   ]
  },
  {
   "cell_type": "code",
   "execution_count": 7,
   "id": "7dd3b11d-0e71-4c1b-9ea6-184b4770a922",
   "metadata": {},
   "outputs": [
    {
     "name": "stdout",
     "output_type": "stream",
     "text": [
      "I am a Kangaroo located at coordinates (0, 0)\n",
      "['doll', 'firetruck', 'kitten']\n",
      "I am a Kangaroo located at coordinates (3, 0)\n"
     ]
    }
   ],
   "source": [
    "class Marsupial:\n",
    "    def __innit__(self):\n",
    "        pass\n",
    "class Kangaroo:\n",
    "    def __innit__(self, x, y):\n",
    "        self.x = x\n",
    "        self.y = y\n",
    "        self.itemsInPouch = []\n",
    "\n",
    "    def jump(self, dx, dy):\n",
    "        pass\n",
    "    def put_in_pouch(self, item):\n",
    "        self.item = item\n",
    "        self.itemsInPouch.append(item)\n",
    "    def pouch_contents(self):\n",
    "        return self.itemsInPouch\n",
    "    def __str__():\n",
    "        return f'Kangaroo at ({self.x}, {self.y}) with {len(self.itemsInPouch)} items in pouch'\n",
    "        \n",
    "class Marsupial:\n",
    "    def __init__(self):\n",
    "        self.itemsInPouch = []\n",
    "\n",
    "    def put_in_pouch(self, item):\n",
    "        self.itemsInPouch.append(item)\n",
    "\n",
    "    def pouch_contents(self):\n",
    "        return self.itemsInPouch\n",
    "    \n",
    "class Kangaroo(Marsupial):\n",
    "    def __init__(self, x, y):\n",
    "        super().__init__()\n",
    "        self.x = x\n",
    "        self.y = y\n",
    "    \n",
    "    def jump(self, dx, dy):\n",
    "        self.x += dx\n",
    "        self.y += dy\n",
    "\n",
    "    def __str__(self):\n",
    "        return f'I am a Kangaroo located at coordinates ({self.x}, {self.y})'\n",
    "\n",
    "# Test\n",
    "k = Kangaroo(0,0)\n",
    "print(k)  # I am a Kangaroo located at coordinates (0,0)\n",
    "k.put_in_pouch('doll')\n",
    "k.put_in_pouch('firetruck')\n",
    "k.put_in_pouch('kitten')\n",
    "print(k.pouch_contents())  # ['doll', 'firetruck', 'kitten']\n",
    "k.jump(1,0)\n",
    "k.jump(1,0)\n",
    "k.jump(1,0)\n",
    "print(k)"
   ]
  },
  {
   "cell_type": "markdown",
   "id": "aa29c1cf-c120-4ae2-870c-029e69f46715",
   "metadata": {},
   "source": []
  },
  {
   "cell_type": "markdown",
   "id": "42b442ad-4dd0-493b-beb5-03c4451e6fb0",
   "metadata": {},
   "source": [
    "# Question 4:\n",
    "Write function collatz() that takes a positive integer x as input and prints the Collatz sequence starting at x. A Collatz sequence is obtained by repeatedly applying this rule to the previous number x in the sequence:\r\n",
    "x = { 𝑥/2 𝑖𝑓 𝑥 𝑖𝑠 𝑒𝑣𝑒𝑛\r\n",
    "\r\n",
    "3𝑥 + 1 𝑖𝑓 𝑥 𝑖𝑠 𝑜𝑑𝑑\r\n",
    "Your function should stop when the sequence gets to number 1. Your implementation must be recursive, without any loops.\r\n",
    "\r\n",
    ">>> collatz(1)\r\n",
    "\r\n",
    "1\r\n",
    ">>> collatz(10)\r\n",
    "10\r\n",
    "5\r\n",
    "16\r\n",
    "8\r\n",
    "4\r\n",
    "2\r\n",
    "1\r\n"
   ]
  },
  {
   "cell_type": "markdown",
   "id": "a25e9ab7-690e-4202-bc3a-f2e57000a877",
   "metadata": {},
   "source": [
    "# Answer 4:"
   ]
  },
  {
   "cell_type": "code",
   "execution_count": 11,
   "id": "fdf2882c-3125-4d04-8b01-e9ebde00f09e",
   "metadata": {},
   "outputs": [
    {
     "name": "stdout",
     "output_type": "stream",
     "text": [
      "1\n",
      "10\n",
      "5\n",
      "16\n",
      "8\n",
      "4\n",
      "2\n",
      "1\n"
     ]
    }
   ],
   "source": [
    "def collatz(x):\n",
    "    print(x)\n",
    "    if x == 1: # exits recursion if 1\n",
    "        return\n",
    "    elif x % 2 == 0: # calls itself if even and divides by 2\n",
    "        collatz(x // 2)\n",
    "    else: #if odd multiply by 3 and add 1\n",
    "        collatz(x * 3 + 1)\n",
    "# Test\n",
    "collatz(1)\n",
    "collatz(10)"
   ]
  },
  {
   "cell_type": "markdown",
   "id": "5c577f72-4415-484a-8749-1a91e373ff49",
   "metadata": {},
   "source": []
  },
  {
   "cell_type": "markdown",
   "id": "8e1fd20b-043c-4051-9f5e-78622760955a",
   "metadata": {},
   "source": [
    "# Question 5\n",
    "Write a recursive method binary() that takes a non-negative integer n and prints the binary representation of integer n.\r",
    " binary(0)\r\n",
    "\r",
    ">>> binary(1\r\n",
    ">>> binary(11\r\n",
    ">>> binary(9)\r\n",
    "1001"
   ]
  },
  {
   "cell_type": "markdown",
   "id": "c8d0dbbf-503d-4dda-b1d5-17717c56791f",
   "metadata": {},
   "source": [
    "# Answer 5:"
   ]
  },
  {
   "cell_type": "code",
   "execution_count": 15,
   "id": "4aee0402-cd29-455a-9216-2e974f5fd486",
   "metadata": {},
   "outputs": [
    {
     "name": "stdout",
     "output_type": "stream",
     "text": [
      "0\n",
      "1\n",
      "11\n",
      "1001\n"
     ]
    }
   ],
   "source": [
    "def binary(num):\n",
    "    listOfBinary = []\n",
    "    if num == 0: # add to list if 0\n",
    "        listOfBinary.append(0)\n",
    "    else:\n",
    "        while num > 0:\n",
    "            modulusResult = num % 2\n",
    "            listOfBinary.append(modulusResult)\n",
    "            num = num // 2\n",
    "    listOfBinary.reverse() #reverses list to display binary correct order\n",
    "    print(''.join(map(str, listOfBinary)))\n",
    "\n",
    "# Test\n",
    "binary(0)\n",
    "binary(1)\n",
    "binary(3) \n",
    "binary(9)"
   ]
  },
  {
   "cell_type": "markdown",
   "id": "6f8c31c4-fd2a-478f-98b1-a8e238fe66b0",
   "metadata": {},
   "source": [
    "# Question 6:\n",
    "Implement a class named HeadingParser that can be used to parse an HTML document, and retrieve and print all the headings in the document. You should implement your class as a subclass of HTMLParser, defined in Standard Library module html.parser.\r\n",
    "When fed a string containing HTML code, your class should print the headings, one per line and in the order in which they appear in the document.\r\n",
    "\r\n",
    "Each heading should be indented as follows:\r\n",
    "\r\n",
    "an h1 heading should have indentation 0, and h2 heading should have indentation 1, etc.\r\n",
    "Test your implementation using w3c.html.\r\n",
    ">>> infile = open('w3c.html')\r\n",
    "\r\n",
    ">>> content = infile.read()\r\n",
    ">>> infile.close()\r\n",
    ">>> hp = HeadingParser()\r\n",
    ">>> binary(3)\r\n",
    ">>> hp.feed(content)\r\n",
    "W3C Mission\r\n",
    "Principles"
   ]
  },
  {
   "cell_type": "markdown",
   "id": "9900a38f-85bb-4c55-8a41-d0cf3be6e053",
   "metadata": {},
   "source": [
    "# Answer 6"
   ]
  },
  {
   "cell_type": "code",
   "execution_count": 79,
   "id": "dd818a1e-8f03-4d62-aa01-e2505de7ba26",
   "metadata": {},
   "outputs": [
    {
     "name": "stdout",
     "output_type": "stream",
     "text": [
      "W3C Mission\n",
      " Principles\n"
     ]
    }
   ],
   "source": [
    "from html.parser import HTMLParser\n",
    "\n",
    "class HeadingParser(HTMLParser):\n",
    "    def __init__(self):\n",
    "        super().__init__()\n",
    "        self.heading_level = 0\n",
    "\n",
    "    def handle_starttag(self, tag, attrs):\n",
    "        if tag.startswith('h') and tag[1].isdigit():\n",
    "            self.heading_level = int(tag[1])\n",
    "\n",
    "    def handle_endtag(self, tag):\n",
    "        if tag.startswith('h') and tag[1].isdigit():\n",
    "            self.heading_level = 0\n",
    "\n",
    "    def handle_data(self, data):\n",
    "        if self.heading_level > 0:\n",
    "            print(' ' * (self.heading_level - 1) + data.strip())\n",
    "\n",
    "# Reading HTML content from file\n",
    "infile = open('w3c.html')\n",
    "content = infile.read()\n",
    "infile.close()\n",
    "\n",
    "# Creating HeadingParser instance and feeding HTML content\n",
    "hp = HeadingParser()\n",
    "hp.feed(content)\n"
   ]
  },
  {
   "cell_type": "markdown",
   "id": "25290580-9c52-46b2-a9fa-fb2b3d07659d",
   "metadata": {},
   "source": []
  },
  {
   "cell_type": "markdown",
   "id": "c505a74b-5470-4f89-baa1-66c0ed5471fe",
   "metadata": {},
   "source": [
    "# Question 7:\n",
    "Implement recursive function webdir() that takes as input:\r\n",
    "a URL (as a string) and non-negative integers depth and indent.\r\n",
    "Your function should visit every web page reachable from the starting URL web page in depth clicks or less, and print each web page's URL.\r\n",
    "\r\n",
    "As shown below, indentation, specified by indent, should be used to indicate the depth of a URL.\r\n",
    "\r\n",
    ">>>\r\n",
    "\r\n",
    "webdir('http://reed.cs.depaul.edu/lperkovic/csc242/test1.html', 2, 0)\r\n",
    "http://reed.cs.depaul.edu/lperkovic/csc242/test1.html\r\n",
    "http://reed.cs.depaul.edu/lperkovic/csc242/test2.html\r\n",
    "http://reed.cs.depaul.edu/lperkovic/csc242/test4.html\r\n",
    "http://reed.cs.depaul.edu/lperkovic/csc242/test3.html\r\n",
    "http://reed.cs.depaul.edu/lperkovic/csc242/test4.html:"
   ]
  },
  {
   "cell_type": "markdown",
   "id": "aea0a749-0e38-47f9-a9db-9a9407668b80",
   "metadata": {},
   "source": [
    "# Answer 7"
   ]
  },
  {
   "cell_type": "code",
   "execution_count": 94,
   "id": "b9401a1d-5553-400c-8f4c-df0da1f2886d",
   "metadata": {},
   "outputs": [
    {
     "name": "stdout",
     "output_type": "stream",
     "text": [
      "http://reed.cs.depaul.edu/lperkovic/csc242/test1.html\n",
      "Failed to retrieve the page: http://reed.cs.depaul.edu/lperkovic/csc242/test1.html\n",
      "Error: HTTP Error 404: \n"
     ]
    }
   ],
   "source": [
    "from urllib.request import urlopen\n",
    "from urllib.parse import urljoin\n",
    "from html.parser import HTMLParser\n",
    "\n",
    "class Collector(HTMLParser):\n",
    "    def __init__(self, url):\n",
    "        super().__init__()\n",
    "        self.url = url\n",
    "        self.links = []\n",
    "\n",
    "    def handle_starttag(self, tag, attrs):\n",
    "        if tag == \"a\":\n",
    "            for attr in attrs:\n",
    "                if attr[0] == \"href\":\n",
    "                    absolute = urljoin(self.url, attr[1])\n",
    "                    if absolute[:4] == \"http\":\n",
    "                        self.links.append(absolute)\n",
    "\n",
    "    def getLinks(self):\n",
    "        return self.links\n",
    "\n",
    "def analyze(url):\n",
    "    try:\n",
    "        response = urlopen(url)\n",
    "        content = response.read().decode()\n",
    "        parser = Collector(url)\n",
    "        parser.feed(content)\n",
    "        return parser.getLinks()\n",
    "    except Exception as e:\n",
    "        print(f\"Failed to retrieve the page: {url}\")\n",
    "        print(f\"Error: {e}\")\n",
    "        return []\n",
    "\n",
    "visited = set()\n",
    "\n",
    "def webdir(url, depth, indent):\n",
    "    global visited\n",
    "    if url in visited:\n",
    "        return\n",
    "    visited.add(url)\n",
    "    print(' ' * indent + url)\n",
    "    if depth == 0:\n",
    "        return\n",
    "    links = analyze(url)\n",
    "    for link in links:\n",
    "        if link not in visited:\n",
    "            webdir(link, depth-1, indent+1)\n",
    "\n",
    "# Example usage\n",
    "webdir(\"http://reed.cs.depaul.edu/lperkovic/csc242/test1.html\", 2, 0)\n"
   ]
  },
  {
   "cell_type": "markdown",
   "id": "c95a76b9-b98e-4303-9183-34e2704fc758",
   "metadata": {},
   "source": []
  },
  {
   "cell_type": "markdown",
   "id": "faa161e8-0ec8-4d8f-bbaa-9b019c5c0ab3",
   "metadata": {},
   "source": [
    "# Question 8:\n",
    "Write SQL queries on the below database table that return:\n",
    "a) All the temperature data.\n",
    "\n",
    "b) All the cities, but without repetition.\n",
    "c) All the records for India.\n",
    "d) All the Fall records.\n",
    "e) The city, country, and season for which the average rainfall is between 200 and 400 millimeters.\n",
    "f) The city and country for which the average Fall temperature is above 20 degrees, in increasing temperature order.\n",
    "g) The total annual rainfall for Cairo.\n",
    "h) The total rainfall for each season."
   ]
  },
  {
   "cell_type": "markdown",
   "id": "71ac074e-09da-4a48-9fb3-800f9359cf3f",
   "metadata": {},
   "source": [
    "# Answer 8\n",
    "\n",
    "# Assuming table name is Table\n",
    "\n",
    "# a) All the temp data\n",
    "\"SELECT Temperature FROM Table\"\n",
    "# b) All the cities, but without repetition.\n",
    "\"SELECT DISTINCT City FROM Table\"\n",
    "# c) All the records for India.\n",
    "\"SELECT * FROM Table WHERE Country = 'India'\"\n",
    "# d) All the Fall records\n",
    "\"SELECT * FROM Table WHERE Season = 'Fall'\"\n",
    "# e) The city, country, and season for which the average rainfall is between 200 and 400 millimeters.\n",
    "\"SELECT City, Country, Season FROM Table GROUP BY City, Country, Season HAVING AVG(Rainfall) BETWEEN 200 AND 400\"\n",
    "# f) The city and country for which the average Fall temperature is above 20 degrees, in increasing temperature order.\n",
    "\"SELECT City, Country FROM Table WHERE Season = 'Fall' GROUP BY City, Country HAVING AVG(Temperature) > 20 ORDER BY AVG(Temperature)\"\n",
    "# g) The total annual rainfall for Cairo.\n",
    "\"SELECT SUM(Rainfall) AS TotalAnnualRainfall FROM Table WHERE City = 'Cairo'\"\n",
    "# h) The total rainfall for each season.\n",
    "\"SELECT Season, SUM(Rainfall) AS TotalRainfall FROM Table GROUP BY Season\""
   ]
  },
  {
   "cell_type": "markdown",
   "id": "e3f393db-dd6c-4d7d-aeb2-c5cada0b3c0c",
   "metadata": {},
   "source": [
    "\n",
    "\n",
    "# Question 9\n",
    "Suppose list words is defined as follows:\n",
    ">>> words = ['The', 'quick', 'brown', 'fox', 'jumps', 'over', 'the', 'lazy', 'dog']\n",
    "Write list comprehension expressions that use list words and generate the following lists:"
   ]
  },
  {
   "cell_type": "markdown",
   "id": "4829f2ee-3232-4359-836c-b449855c900b",
   "metadata": {},
   "source": [
    "# Answer 9"
   ]
  },
  {
   "cell_type": "code",
   "execution_count": 27,
   "id": "e86886d0-271c-46e5-92a2-08bffd0aa11c",
   "metadata": {},
   "outputs": [
    {
     "name": "stdout",
     "output_type": "stream",
     "text": [
      "['THE', 'QUICK', 'BROWN', 'FOX', 'JUMPS', 'OVER', 'THE', 'LAZY', 'DOG']\n",
      "['the', 'quick', 'brown', 'fox', 'jumps', 'over', 'the', 'lazy', 'dog']\n",
      "[3, 5, 5, 3, 5, 4, 3, 4, 3]\n",
      "[['THE', 'the', 3], ['QUICK', 'quick', 5], ['BROWN', 'brown', 5], ['FOX', 'fox', 3], ['JUMPS', 'jumps', 5], ['OVER', 'over', 4], ['THE', 'the', 3], ['LAZY', 'lazy', 4], ['DOG', 'dog', 3]]\n",
      "['quick', 'brown', 'jumps', 'over', 'lazy']\n"
     ]
    }
   ],
   "source": [
    "words = ['The', 'quick', 'brown', 'fox', 'jumps', 'over', \n",
    "'the', 'lazy', 'dog']\n",
    "\n",
    "# Write list comprehension expressions that use list words and generate the following \n",
    "# lists:\n",
    "# a) ['THE', 'QUICK', 'BROWN', 'FOX', 'JUMPS', 'OVER', 'THE', 'LAZY', 'DOG']\n",
    "a = [word.upper() for word in words]\n",
    "print(a)\n",
    "\n",
    "# b) ['the', 'quick', 'brown', 'fox', 'jumps', 'over', 'the', \n",
    "# 'lazy', 'dog']\n",
    "b = [word.lower() for word in words]\n",
    "print(b)\n",
    "\n",
    "# c) [3, 5, 5, 3, 5, 4, 3, 4, 3] (the list of lengths of words in list\n",
    "# words).\n",
    "c = [len(word) for word in words]\n",
    "print(c)\n",
    "\n",
    "# d) [['THE', 'the', 3], ['QUICK', 'quick', 5], ['BROWN',\n",
    "# 'brown', 5], ['FOX', 'fox', 3], ['JUMPS', 'jumps', 5],\n",
    "# ['OVER', 'over', 4], ['THE', 'the', 3], ['LAZY', 'lazy',\n",
    "# 4], ['DOG', 'dog', 3]] (the list containing a list for every word of list \n",
    "# words, where each list contains the word in uppercase and lowercase and the \n",
    "# length of the word.)\n",
    "d = [[word.upper(),word.lower(), len(word)] for word in words]\n",
    "print(d)\n",
    "# e) ['The', 'quick', 'brown', 'fox', 'jumps', 'over', 'the',  'lazy', 'dog'] (the list of words in list words containing 4 or more  characters.)\n",
    "e = [word for word in words if len(word) >= 4]\n",
    "print(e)"
   ]
  }
 ],
 "metadata": {
  "kernelspec": {
   "display_name": "Python 3 (ipykernel)",
   "language": "python",
   "name": "python3"
  },
  "language_info": {
   "codemirror_mode": {
    "name": "ipython",
    "version": 3
   },
   "file_extension": ".py",
   "mimetype": "text/x-python",
   "name": "python",
   "nbconvert_exporter": "python",
   "pygments_lexer": "ipython3",
   "version": "3.12.4"
  }
 },
 "nbformat": 4,
 "nbformat_minor": 5
}
